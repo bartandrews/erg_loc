{
 "cells": [
  {
   "cell_type": "markdown",
   "id": "1db3fcc5",
   "metadata": {},
   "source": [
    "# Heating in periodically driven spin chains"
   ]
  },
  {
   "cell_type": "code",
   "execution_count": 2,
   "id": "39ef84c9",
   "metadata": {},
   "outputs": [],
   "source": [
    "from quspin.operators import hamiltonian # Hamiltonians and operators\n",
    "from quspin.basis import spin_basis_1d # Hilbert space spin basis\n",
    "from quspin.tools.measurements import obs_vs_time, diag_ensemble # t_dep measurements\n",
    "from quspin.tools.Floquet import Floquet, Floquet_t_vec # Floquet Hamiltonian\n",
    "import numpy as np # generic math functions"
   ]
  },
  {
   "cell_type": "markdown",
   "id": "5f40936f",
   "metadata": {},
   "source": [
    "## Initialization of approximate Floquet Hamiltonian"
   ]
  },
  {
   "cell_type": "code",
   "execution_count": 4,
   "id": "0c2dc1c7",
   "metadata": {},
   "outputs": [],
   "source": [
    "L=14 # system size\n",
    "J=1.0 # spin interaction\n",
    "g= 0.809 # transverse field\n",
    "h= 0.9045 # parallel field\n",
    "Omega=4.5 # drive frequency"
   ]
  },
  {
   "cell_type": "code",
   "execution_count": 6,
   "id": "0c2372de",
   "metadata": {},
   "outputs": [],
   "source": [
    "# define time-reversal symmetric periodic step drive\n",
    "def drive(t,Omega):\n",
    "    return np.sign(np.cos(Omega*t))\n",
    "drive_args=[Omega]"
   ]
  },
  {
   "cell_type": "code",
   "execution_count": 7,
   "id": "4dd2e43c",
   "metadata": {},
   "outputs": [],
   "source": [
    "# compute basis in the 0 -total momentum and +1-parity sector\n",
    "basis=spin_basis_1d(L=L,a=1,kblock= 0 ,pblock=1)"
   ]
  },
  {
   "cell_type": "code",
   "execution_count": 8,
   "id": "71283707",
   "metadata": {},
   "outputs": [],
   "source": [
    "# define PBC site-coupling lists for operators\n",
    "x_field_pos=[[+g,i] for i in range(L)]\n",
    "x_field_neg=[[-g,i] for i in range(L)]\n",
    "z_field=[[h,i] for i in range(L)]\n",
    "J_nn=[[J,i,(i+1)%L] for i in range(L)] # PBC"
   ]
  },
  {
   "cell_type": "code",
   "execution_count": 9,
   "id": "6030b5f7",
   "metadata": {},
   "outputs": [
    {
     "name": "stdout",
     "output_type": "stream",
     "text": [
      "Hermiticity check passed!\n"
     ]
    },
    {
     "name": "stderr",
     "output_type": "stream",
     "text": [
      "/home/bart/miniconda3/lib/python3.7/site-packages/ipykernel_launcher.py:4: UserWarning: Test for symmetries not implemented for <class 'quspin.basis.basis_1d.spin.spin_basis_1d'>, to turn off this warning set check_symm=False in hamiltonian\n",
      "  after removing the cwd from sys.path.\n"
     ]
    }
   ],
   "source": [
    "# static and dynamic lists\n",
    "static=[[\"zz\",J_nn],[\"z\",z_field],[\"x\",x_field_pos]]\n",
    "dynamic=[[\"zz\",J_nn,drive,drive_args],[\"z\",z_field,drive,drive_args],[\"x\",x_field_neg,drive,drive_args]] # compute Hamiltonians\n",
    "H= 0.5*hamiltonian(static,dynamic,dtype=np.float64,basis=basis)"
   ]
  },
  {
   "cell_type": "code",
   "execution_count": 13,
   "id": "979722a0",
   "metadata": {},
   "outputs": [
    {
     "name": "stdout",
     "output_type": "stream",
     "text": [
      "Hermiticity check passed!\n",
      "Hermiticity check passed!\n"
     ]
    },
    {
     "name": "stderr",
     "output_type": "stream",
     "text": [
      "/home/bart/miniconda3/lib/python3.7/site-packages/ipykernel_launcher.py:3: UserWarning: Test for symmetries not implemented for <class 'quspin.basis.basis_1d.spin.spin_basis_1d'>, to turn off this warning set check_symm=False in hamiltonian\n",
      "  This is separate from the ipykernel package so we can avoid doing imports until\n",
      "/home/bart/miniconda3/lib/python3.7/site-packages/ipykernel_launcher.py:11: UserWarning: Test for symmetries not implemented for <class 'quspin.basis.basis_1d.spin.spin_basis_1d'>, to turn off this warning set check_symm=False in hamiltonian\n",
      "  # This is added back by InteractiveShellApp.init_path()\n"
     ]
    }
   ],
   "source": [
    "##### set up second-order van Vleck Floquet Hamiltonian #####\n",
    "# zeroth-order term\n",
    "Heff_0 = 0.5*hamiltonian(static,[],dtype=np.float64,basis=basis)\n",
    "# second-order term: site-coupling lists\n",
    "Heff2_term_1=[[+J**2*g,i,(i+1)%L,(i+2)%L] for i in range(L)] # PBC\n",
    "Heff2_term_2=[[+J*g*h, i,(i+1)%L] for i in range(L)] # PBC\n",
    "Heff2_term_3=[[-J*g**2,i,(i+1)%L] for i in range(L)] # PBC\n",
    "Heff2_term_4=[[+J**2*g+ 0.5*h**2*g,i] for i in range(L)]\n",
    "Heff2_term_5=[[ 0.5*h*g**2, i] for i in range(L)] # define static list\n",
    "Heff_static=[[\"zxz\",Heff2_term_1],[\"xz\",Heff2_term_2],[\"zx\",Heff2_term_2],[\"yy\",Heff2_term_3],[\"zz\",Heff2_term_2],[\"x\",Heff2_term_4],[\"z\",Heff2_term_5]] # compute van Vleck Hamiltonian\n",
    "Heff_2=hamiltonian(Heff_static,[],dtype=np.float64,basis=basis)\n",
    "Heff_2*=-np.pi**2/(12.0 *Omega**2) # zeroth + second order van Vleck Floquet Hamiltonian\n",
    "Heff_02=Heff_0+Heff_2"
   ]
  },
  {
   "cell_type": "code",
   "execution_count": 14,
   "id": "84616873",
   "metadata": {},
   "outputs": [
    {
     "name": "stdout",
     "output_type": "stream",
     "text": [
      "Hermiticity check passed!\n"
     ]
    },
    {
     "name": "stderr",
     "output_type": "stream",
     "text": [
      "/home/bart/miniconda3/lib/python3.7/site-packages/ipykernel_launcher.py:6: UserWarning: Test for symmetries not implemented for <class 'quspin.basis.basis_1d.spin.spin_basis_1d'>, to turn off this warning set check_symm=False in hamiltonian\n",
      "  \n"
     ]
    }
   ],
   "source": [
    "##### set up second-order van Vleck Kick operator #####\n",
    "Keff2_term_1=[[J*g,i,(i+1)%L] for i in range(L)] # PBC\n",
    "Keff2_term_2=[[h*g,i] for i in range(L)]\n",
    "# define static list\n",
    "Keff_static=[[\"zy\",Keff2_term_1],[\"yz\",Keff2_term_1],[\"y\",Keff2_term_2]]\n",
    "Keff_02=hamiltonian(Keff_static,[],dtype=np.complex128,basis=basis)\n",
    "Keff_02*=np.pi**2/(8.0*Omega**2)"
   ]
  },
  {
   "cell_type": "code",
   "execution_count": 15,
   "id": "51c3ca03",
   "metadata": {},
   "outputs": [],
   "source": [
    "##### rotate Heff to stroboscopic basis #####\n",
    "# e^{-1j*Keff_ 0 2} Heff_ 0 2 e^{+1j*Keff_ 0 2}\n",
    "HF_02 = Heff_02.rotate_by(Keff_02,generator=True,a=1j)"
   ]
  },
  {
   "cell_type": "markdown",
   "id": "fbc24371",
   "metadata": {},
   "source": [
    "## Dynamics of the system"
   ]
  },
  {
   "cell_type": "code",
   "execution_count": 16,
   "id": "cd62e3e0",
   "metadata": {},
   "outputs": [],
   "source": [
    "##### define time vector of stroboscopic times with 1 0 0 cycles #####\n",
    "t=Floquet_t_vec(Omega,100,len_T=1) # t.vals=times, t.i=init. time, t.T=drive period"
   ]
  },
  {
   "cell_type": "code",
   "execution_count": 18,
   "id": "4953dc61",
   "metadata": {},
   "outputs": [],
   "source": [
    "##### calculate exact Floquet eigensystem #####\n",
    "t_list=np.array([ 0.0 ,t.T/4.0 ,3.0*t.T/4.0])+np.finfo(float).eps # times to evaluate H\n",
    "dt_list=np.array([t.T/4.0 ,t.T/2.0 ,t.T/4.0 ]) # time step durations to apply H for\n",
    "Floq=Floquet({'H':H,'t_list':t_list,'dt_list':dt_list},VF=True) # call Floquet class\n",
    "VF=Floq.VF # read off Floquet states\n",
    "EF=Floq.EF # read off quasienergies"
   ]
  },
  {
   "cell_type": "code",
   "execution_count": 19,
   "id": "ff9e1db6",
   "metadata": {},
   "outputs": [],
   "source": [
    "##### calculate initial state (GS of HF_ 0 2) and its energy\n",
    "EF_02, psi_i = HF_02.eigsh(k=1,which=\"SA\",maxiter=1E4)\n",
    "psi_i = psi_i.reshape((-1,))"
   ]
  },
  {
   "cell_type": "code",
   "execution_count": 23,
   "id": "2338f70e",
   "metadata": {},
   "outputs": [],
   "source": [
    "##### time-dependent measurements\n",
    "# calculate measurements\n",
    "Sent_args = {\"basis\":basis,\"chain_subsys\":[j for j in range(L//2)]}\n",
    "#meas = obs_vs_time((psi_i,EF,VF),t.vals,{\"E_time\":HF_ 0 2/L},Sent_args=Sent_args)"
   ]
  },
  {
   "cell_type": "code",
   "execution_count": 24,
   "id": "bb37a170",
   "metadata": {},
   "outputs": [],
   "source": [
    "# alternative way by solving Schroedinger’s eqn\n",
    "psi_t = H.evolve(psi_i,t.i,t.vals,iterate=True,rtol=1E-9,atol=1E-9)\n",
    "meas = obs_vs_time(psi_t,t.vals,{\"E_time\":HF_02/L},Sent_args=Sent_args)"
   ]
  },
  {
   "cell_type": "code",
   "execution_count": 25,
   "id": "e208ee3f",
   "metadata": {},
   "outputs": [],
   "source": [
    "# read off measurements\n",
    "Energy_t = meas[\"E_time\"]\n",
    "Entropy_t = meas[\"Sent_time\"][\"Sent\"]"
   ]
  },
  {
   "cell_type": "code",
   "execution_count": 27,
   "id": "c1a29bc0",
   "metadata": {},
   "outputs": [],
   "source": [
    "##### calculate diagonal ensemble measurements\n",
    "DE_args = {\"Obs\":HF_02,\"Sd_Renyi\":True,\"Srdm_Renyi\":True,\"Srdm_args\":Sent_args}\n",
    "DE = diag_ensemble(L,psi_i,EF,VF,**DE_args)\n",
    "Ed = DE[\"Obs_pure\"]\n",
    "Sd = DE[\"Sd_pure\"]\n",
    "Srdm=DE[\"Srdm_pure\"]"
   ]
  },
  {
   "cell_type": "code",
   "execution_count": 28,
   "id": "a53c39a7",
   "metadata": {},
   "outputs": [
    {
     "name": "stderr",
     "output_type": "stream",
     "text": [
      "/home/bart/miniconda3/lib/python3.7/site-packages/numpy/core/_asarray.py:102: ComplexWarning: Casting complex values to real discards the imaginary part\n",
      "  return array(a, dtype, copy=False, order=order)\n"
     ]
    }
   ],
   "source": [
    "##### plot results #####\n",
    "import matplotlib.pyplot as plt\n",
    "import pylab\n",
    "# define legend labels\n",
    "str_E_t = \"$\\\\mathcal{E}(lT)$\"\n",
    "str_Sent_t = \"$s_\\mathrm{ent}(lT)$\"\n",
    "str_Ed = \"$\\\\overline{\\mathcal{E}}$\"\n",
    "str_Srdm = \"$\\\\overline{s}_\\mathrm{rdm}$\"\n",
    "str_Sd = \"$s_d^F$\"\n",
    "# plot infinite-time data\n",
    "fig = plt.figure()\n",
    "plt.plot(t.vals/t.T,Ed*np.ones(t.vals.shape),\"b--\",linewidth=1,label=str_Ed)\n",
    "plt.plot(t.vals/t.T,Srdm*np.ones(t.vals.shape),\"r--\",linewidth=1,label=str_Srdm)\n",
    "plt.plot(t.vals/t.T,Sd*np.ones(t.vals.shape),\"g--\",linewidth=1,label=str_Sd)\n",
    "# plot time-dependent data\n",
    "plt.plot(t.vals/t.T,Energy_t,\"b-o\",linewidth=1,label=str_E_t,markersize=3.0)\n",
    "plt.plot(t.vals/t.T,Entropy_t,\"r-s\",linewidth=1,label=str_Sent_t,markersize=3.0)\n",
    "# label axes\n",
    "plt.xlabel(\"$\\\\#\\ \\\\mathrm{periods}\\\\ l$\",fontsize=18)\n",
    "# set y axis limits\n",
    "plt.ylim([-0.6,0.7])\n",
    "# display legend\n",
    "plt.legend(loc=\"lower right\",ncol=2,fontsize=18)\n",
    "# update axis font size\n",
    "plt.tick_params(labelsize=16)\n",
    "# turn on grid\n",
    "plt.grid(True)\n",
    "# save figure\n",
    "plt.tight_layout()\n",
    "plt.savefig('example2.pdf', bbox_inches='tight')\n",
    "# show plot\n",
    "#plt.show() \n",
    "plt.close()"
   ]
  },
  {
   "cell_type": "code",
   "execution_count": null,
   "id": "b3c84f6c",
   "metadata": {},
   "outputs": [],
   "source": []
  }
 ],
 "metadata": {
  "kernelspec": {
   "display_name": "Python 3 (ipykernel)",
   "language": "python",
   "name": "python3"
  },
  "language_info": {
   "codemirror_mode": {
    "name": "ipython",
    "version": 3
   },
   "file_extension": ".py",
   "mimetype": "text/x-python",
   "name": "python",
   "nbconvert_exporter": "python",
   "pygments_lexer": "ipython3",
   "version": "3.7.6"
  }
 },
 "nbformat": 4,
 "nbformat_minor": 5
}
